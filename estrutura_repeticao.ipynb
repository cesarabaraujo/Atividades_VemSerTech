{
 "cells": [
  {
   "cell_type": "code",
   "execution_count": 1,
   "metadata": {},
   "outputs": [],
   "source": [
    "##https://wiki.python.org.br/EstruturaDeRepeticao##"
   ]
  },
  {
   "cell_type": "code",
   "execution_count": null,
   "metadata": {},
   "outputs": [],
   "source": [
    "#programar entrada de senha\n",
    "\n",
    "SENHA_USUARIO = 12345\n",
    "\n",
    "digitar_senha = int(input(f'Qual sua senha: '))\n",
    "\n",
    "limite_senha = 3 \n",
    "\n",
    "SENHA_ERRADA = digitar_senha != SENHA_USUARIO\n",
    "\n",
    "SENHA_CORRETA = digitar_senha == SENHA_USUARIO\n",
    "\n",
    "\n",
    "\n",
    "while (SENHA_ERRADA):\n",
    "    digitar_senha = int(input(f'Qual sua senha: '))"
   ]
  },
  {
   "cell_type": "code",
   "execution_count": null,
   "metadata": {},
   "outputs": [],
   "source": []
  }
 ],
 "metadata": {
  "kernelspec": {
   "display_name": "base",
   "language": "python",
   "name": "python3"
  },
  "language_info": {
   "codemirror_mode": {
    "name": "ipython",
    "version": 3
   },
   "file_extension": ".py",
   "mimetype": "text/x-python",
   "name": "python",
   "nbconvert_exporter": "python",
   "pygments_lexer": "ipython3",
   "version": "3.11.5"
  }
 },
 "nbformat": 4,
 "nbformat_minor": 2
}
