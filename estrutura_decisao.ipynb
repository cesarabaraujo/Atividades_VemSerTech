{
 "cells": [
  {
   "cell_type": "code",
   "execution_count": 1,
   "metadata": {},
   "outputs": [],
   "source": [
    "##https://wiki.python.org.br/EstruturaDeDecisao##"
   ]
  },
  {
   "cell_type": "code",
   "execution_count": 2,
   "metadata": {},
   "outputs": [
    {
     "name": "stdout",
     "output_type": "stream",
     "text": [
      "O maior número é 144.0 \n"
     ]
    }
   ],
   "source": [
    "##Faça um Programa que leia três números e mostre o maior deles.##\n",
    "\n",
    "number1 = float(input(f'Digite o primeiro número'))\n",
    "number2 = float(input(f'Digite o segundo número'))\n",
    "number3 = float(input(f'Digite o terceiro número'))\n",
    "\n",
    "\n",
    "maior_number1 = number1 > number2 and number1 > number3\n",
    "maior_number2 = number2 > number1 and number2 > number3\n",
    "\n",
    "if maior_number1:\n",
    "    print(f'O maior número é {number1}')\n",
    "elif maior_number2:\n",
    "    print(f'O maior número é {number2}')\n",
    "else:\n",
    "    print(f'O maior número é {number3} ')"
   ]
  },
  {
   "cell_type": "code",
   "execution_count": 6,
   "metadata": {},
   "outputs": [
    {
     "name": "stdout",
     "output_type": "stream",
     "text": [
      "\n",
      "Salário Bruto: (R$ 144.0 * 183.0h)         : R$ 26352.00\n",
      "(-) Desconto Sindicato (3.0%)              : R$ 790.56\n",
      "( ) Desconto FGTS (11.0%)                  : R$ 2898.72\n",
      "(-) Desconto Imposto de Renda (20.00%)     : R$ 5270.40\n",
      "Total de descontos                         : R$ 6060.96\n",
      "Salário Líquido                            : R$ 20291.04\n"
     ]
    }
   ],
   "source": [
    "#calculando a hora trabalhada e valor da hora trabalhada\n",
    "valor_hora_str = input('Digite o valor da sua hora/trabalho: ')\n",
    "valor_hora_str = valor_hora_str.replace(',', '.')\n",
    "valor_hora = float(valor_hora_str)\n",
    "\n",
    "hora_trabalhada_str = input('Digite quantas horas foram trabalhadas no período: ')\n",
    "hora_trabalhada_str = hora_trabalhada_str.replace(',', '.')\n",
    "hora_trabalhada = float(hora_trabalhada_str)\n",
    "\n",
    "#calculando salário bruto\n",
    "salario_bruto = (valor_hora * hora_trabalhada)\n",
    "\n",
    "#calculando descontos sindicato e fgts \n",
    "desconto_sindicato = 0.03\n",
    "desconto_fgts = 0.11\n",
    "\n",
    "#calculando descontos imposto de renda\n",
    "ir_limite_1 = 900 \n",
    "ir_limite_2 = 1500\n",
    "ir_limite_3 = 2500\n",
    "\n",
    "ir_faixa_1 = 0.05\n",
    "ir_faixa_2 = 0.10\n",
    "ir_faixa_3 = 0.20\n",
    "\n",
    "#variáveis salário e limite \n",
    "salario_limite_1 = salario_bruto <= ir_limite_1\n",
    "salario_limite_2 = salario_bruto <= ir_limite_2\n",
    "salario_limite_3 = salario_bruto <= ir_limite_3\n",
    "\n",
    "#variáveis condicionais \n",
    "if (salario_limite_1):\n",
    "    desconto_ir = 0 #faixa de isenção, por isso 0\n",
    "elif (salario_limite_2):\n",
    "    desconto_ir = salario_bruto * ir_faixa_1\n",
    "elif (salario_limite_3):\n",
    "   desconto_ir = salario_bruto * ir_faixa_2\n",
    "else:\n",
    "    desconto_ir = salario_bruto * ir_faixa_3\n",
    "\n",
    "#convertentendo desconto ir para porcentagem\n",
    "desconto_ir_percentual = (desconto_ir / salario_bruto) * 100\n",
    "\n",
    "#calculando descontos totais\n",
    "total_descontos = (salario_bruto * desconto_sindicato) + desconto_ir\n",
    "\n",
    "#calculando salário líquido\n",
    "salario_liquido = salario_bruto - total_descontos\n",
    "\n",
    "#exibindo infos\n",
    "print(f\"\\nSalário Bruto: (R$ {valor_hora} * {hora_trabalhada}h)         : R$ {salario_bruto:.2f}\")\n",
    "print(f\"(-) Desconto Sindicato ({desconto_sindicato*100}%)              : R$ {salario_bruto * desconto_sindicato:.2f}\")\n",
    "print(f\"( ) Desconto FGTS ({desconto_fgts*100}%)                  : R$ {salario_bruto * desconto_fgts:.2f}\")\n",
    "print(f\"(-) Desconto Imposto de Renda ({desconto_ir_percentual:.2f}%)     : R$ {desconto_ir:.2f}\")\n",
    "print(f\"Total de descontos                         : R$ {total_descontos:.2f}\")\n",
    "print(f\"Salário Líquido                            : R$ {salario_liquido:.2f}\")\n"
   ]
  },
  {
   "cell_type": "code",
   "execution_count": null,
   "metadata": {},
   "outputs": [],
   "source": []
  },
  {
   "cell_type": "code",
   "execution_count": null,
   "metadata": {},
   "outputs": [],
   "source": []
  },
  {
   "cell_type": "code",
   "execution_count": null,
   "metadata": {},
   "outputs": [],
   "source": []
  }
 ],
 "metadata": {
  "kernelspec": {
   "display_name": "base",
   "language": "python",
   "name": "python3"
  },
  "language_info": {
   "codemirror_mode": {
    "name": "ipython",
    "version": 3
   },
   "file_extension": ".py",
   "mimetype": "text/x-python",
   "name": "python",
   "nbconvert_exporter": "python",
   "pygments_lexer": "ipython3",
   "version": "3.11.5"
  }
 },
 "nbformat": 4,
 "nbformat_minor": 2
}
